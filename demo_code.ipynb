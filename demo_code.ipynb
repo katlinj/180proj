{
 "cells": [
  {
   "cell_type": "markdown",
   "metadata": {
    "id": "ebZ6tEdjt1dH"
   },
   "source": [
    "# **Demo Code for Solution 1**"
   ]
  },
  {
   "cell_type": "markdown",
   "metadata": {
    "id": "4yL_hfiFuWZi"
   },
   "source": [
    "# Imports"
   ]
  },
  {
   "cell_type": "code",
   "execution_count": 5,
   "metadata": {},
   "outputs": [
    {
     "name": "stdout",
     "output_type": "stream",
     "text": [
      "Requirement already satisfied: tqdm in c:\\users\\kathleen jocson\\appdata\\local\\programs\\python\\python312\\lib\\site-packages (4.67.1)\n",
      "Requirement already satisfied: colorama in c:\\users\\kathleen jocson\\appdata\\local\\programs\\python\\python312\\lib\\site-packages (from tqdm) (0.4.6)\n",
      "Note: you may need to restart the kernel to use updated packages.\n"
     ]
    }
   ],
   "source": [
    "!pip install tqdm\n"
   ]
  },
  {
   "cell_type": "code",
   "execution_count": 7,
   "metadata": {
    "id": "zCdaGzorueb_"
   },
   "outputs": [],
   "source": [
    "import torch\n",
    "import torch.nn as nn\n",
    "from torch.utils.data import Dataset, DataLoader\n",
    "import torchvision.transforms as transforms\n",
    "from torchvision.datasets import ImageFolder\n",
    "from sklearn.metrics import classification_report\n",
    "from sklearn.metrics import accuracy_score, confusion_matrix\n",
    "from tqdm.notebook import tqdm\n",
    "import matplotlib.pyplot as plt\n",
    "import joblib\n",
    "import seaborn as sns\n",
    "import timm\n",
    "import numpy as np\n",
    "from sklearn.model_selection import StratifiedKFold, cross_val_score\n",
    "from PIL import Image"
   ]
  },
  {
   "cell_type": "markdown",
   "metadata": {
    "id": "4vAx_AAauMmv"
   },
   "source": [
    "# Loading the model"
   ]
  },
  {
   "cell_type": "code",
   "execution_count": 8,
   "metadata": {
    "id": "JLslzja9ufIl"
   },
   "outputs": [],
   "source": [
    "# Pre-trained resnet18 without the classification layer will be used for feature extraction\n",
    "# Random forest classifier will be used for classification\n",
    "# The output of the feature extractor will be the input to the classifier\n",
    "\n",
    "class SugarcaneDiseaseFeatureExtractor(nn.Module):\n",
    "  def __init__(self, num_classes=6):\n",
    "    super(SugarcaneDiseaseFeatureExtractor, self).__init__()\n",
    "    self.base_model = timm.create_model('resnet18', pretrained=True, num_classes=0)\n",
    "    self.features = nn.Sequential(*list(self.base_model.children())[:-1])\n",
    "\n",
    "  def forward(self, x):\n",
    "    # Flattens the extracted features since it will be used as input to random forest\n",
    "    features = self.features(x).reshape(x.size(0), -1)\n",
    "    return features\n",
    "\n",
    "\n",
    "class SugarcaneClassifierWrapper:\n",
    "    '''\n",
    "    Contains the feature extractor, classifier, transform and classes\n",
    "    '''\n",
    "    def __init__(self, feature_extractor, classifier, transform, classes):\n",
    "        self.feature_extractor = feature_extractor\n",
    "        self.classifier = classifier\n",
    "        self.transform = transform\n",
    "        self.classes = classes\n",
    "        self.feature_extractor.eval()\n",
    "\n",
    "    def extract_features(self, dataloader):\n",
    "        '''\n",
    "        Extracts features from the given dataloader.\n",
    "        Returns the features and the labels.\n",
    "        '''\n",
    "        device = torch.device(\"cuda\" if torch.cuda.is_available() else \"cpu\")\n",
    "        features, labels = [], []\n",
    "        with torch.no_grad():\n",
    "            for imgs, lbls in tqdm(dataloader):\n",
    "                imgs = imgs.to(device)\n",
    "                feats = self.feature_extractor(imgs)\n",
    "                features.append(feats.cpu().numpy())\n",
    "                labels.extend(lbls.numpy())\n",
    "        return np.concatenate(features), np.array(labels)\n",
    "\n",
    "    def train(self, dataloader, n_estimators=100, criterion='entropy', random_state=42, n_splits=5):\n",
    "        \"\"\"\n",
    "        Train the model on the given dataloader.\n",
    "\n",
    "        \"\"\"\n",
    "        device = torch.device(\"cuda\" if torch.cuda.is_available() else \"cpu\")\n",
    "        print(\"Extracting features...\")\n",
    "        X_train, y_train = self.extract_features(dataloader)\n",
    "        print(\"Performing cross-validation...\")\n",
    "        kf = StratifiedKFold(n_splits=n_splits, shuffle=True, random_state=random_state)\n",
    "        scores = cross_val_score(self.classifier, X_train, y_train, cv=kf, scoring='f1_weighted')\n",
    "        print(\"Fold scores (f1 weighted):\", scores)\n",
    "        print(\"Mean F1:\", np.mean(scores))\n",
    "        print(\"Training the classifier...\")\n",
    "        self.classifier.fit(X_train, y_train)\n",
    "        print(\"Training complete.\")\n",
    "\n",
    "    def evaluate(self, dataloader):\n",
    "        \"\"\"\n",
    "        Evaluate the model on the given dataloader.\n",
    "        Prints the accuracy and confusion matrix.\n",
    "\n",
    "        \"\"\"\n",
    "        device = torch.device(\"cuda\" if torch.cuda.is_available() else \"cpu\")\n",
    "        print(\"Extracting features...\")\n",
    "        X_test, y_test = self.extract_features(dataloader)\n",
    "        y_pred = self.classifier.predict(X_test)\n",
    "        accuracy = accuracy_score(y_test, y_pred)\n",
    "        conf_matrix = confusion_matrix(y_test, y_pred)\n",
    "        print(\"Accuracy:\", accuracy)\n",
    "        report = classification_report(y_test, y_pred, output_dict=True)\n",
    "        print(classification_report(y_test, y_pred))\n",
    "        cm = confusion_matrix(y_test, y_pred)\n",
    "        plt.figure(figsize=(10, 8))\n",
    "        sns.heatmap(cm, annot=True, fmt='d', cmap='Blues', xticklabels=self.classes, yticklabels=self.classes)\n",
    "        plt.title('Confusion Matrix')\n",
    "        plt.ylabel('True Label')\n",
    "        plt.xlabel('Predicted Label')\n",
    "        plt.tight_layout()\n",
    "        plt.savefig('confusion_matrix.png')\n",
    "        plt.show()\n",
    "\n",
    "\n",
    "    def predict(self, image_path):\n",
    "        \"\"\"\n",
    "        Predict the class of the given image.\n",
    "\n",
    "        \"\"\"\n",
    "        image = Image.open(image_path).convert('RGB')\n",
    "        image_tensor = self.transform(image).unsqueeze(0)\n",
    "        with torch.no_grad():\n",
    "            features = self.feature_extractor(image_tensor)\n",
    "        return self.classes[self.classifier.predict(features.numpy())[0]]"
   ]
  },
  {
   "cell_type": "markdown",
   "metadata": {},
   "source": [
    "### Link to the model: https://drive.google.com/file/d/1XowZzq6QQw7_SkheAOjXLPXxm3LXcuXa/view?usp=sharing "
   ]
  },
  {
   "cell_type": "code",
   "execution_count": 3,
   "metadata": {
    "colab": {
     "base_uri": "https://localhost:8080/",
     "height": 73
    },
    "id": "5wI00W-RdS-1",
    "outputId": "f1a4a8cc-f732-4f43-9f1d-b55c12b44bc7"
   },
   "outputs": [
    {
     "ename": "ModuleNotFoundError",
     "evalue": "No module named 'google'",
     "output_type": "error",
     "traceback": [
      "\u001b[1;31m---------------------------------------------------------------------------\u001b[0m",
      "\u001b[1;31mModuleNotFoundError\u001b[0m                       Traceback (most recent call last)",
      "Cell \u001b[1;32mIn[3], line 1\u001b[0m\n\u001b[1;32m----> 1\u001b[0m \u001b[38;5;28;01mfrom\u001b[39;00m \u001b[38;5;21;01mgoogle\u001b[39;00m\u001b[38;5;21;01m.\u001b[39;00m\u001b[38;5;21;01mcolab\u001b[39;00m \u001b[38;5;28;01mimport\u001b[39;00m files\n\u001b[0;32m      2\u001b[0m \u001b[38;5;66;03m# Upload the model here\u001b[39;00m\n\u001b[0;32m      3\u001b[0m uploaded \u001b[38;5;241m=\u001b[39m files\u001b[38;5;241m.\u001b[39mupload()\n",
      "\u001b[1;31mModuleNotFoundError\u001b[0m: No module named 'google'"
     ]
    }
   ],
   "source": [
    "model_path = input(\"Enter path to model: \")"
   ]
  },
  {
   "cell_type": "code",
   "execution_count": 11,
   "metadata": {
    "id": "Qf0O8Obda9tl"
   },
   "outputs": [],
   "source": [
    "# Loading the model. It should be in the same folder as this notebook.\n",
    "model = joblib.load(model_path)"
   ]
  },
  {
   "cell_type": "markdown",
   "metadata": {
    "id": "dLdDA_zLfdbL"
   },
   "source": [
    "# Single image prediction"
   ]
  },
  {
   "cell_type": "code",
   "execution_count": 15,
   "metadata": {
    "colab": {
     "base_uri": "https://localhost:8080/",
     "height": 73
    },
    "id": "dTqxhWpJeSkh",
    "outputId": "2fa50325-ac25-4fb9-b423-043f8ffbc83f"
   },
   "outputs": [
    {
     "name": "stdin",
     "output_type": "stream",
     "text": [
      "Enter path to image:  C:\\Users\\Kathleen Jocson\\Desktop\\sugarcane_test\\sugarcane_test\\1.jpeg\n"
     ]
    }
   ],
   "source": [
    "image_path = input(\"Enter path to image: \")"
   ]
  },
  {
   "cell_type": "code",
   "execution_count": 16,
   "metadata": {
    "colab": {
     "base_uri": "https://localhost:8080/",
     "height": 35
    },
    "id": "HKwExHw9bqtM",
    "outputId": "0dfa6569-7391-410b-e156-73b6a8baa244"
   },
   "outputs": [
    {
     "data": {
      "text/plain": [
       "'Viral'"
      ]
     },
     "execution_count": 16,
     "metadata": {},
     "output_type": "execute_result"
    }
   ],
   "source": [
    "# Single image prediction\n",
    "model.predict(image_path)"
   ]
  },
  {
   "cell_type": "markdown",
   "metadata": {
    "id": "WV8_DJEBfrcl"
   },
   "source": [
    "# Multiple Images (No Label; For testing)\n",
    "\n",
    "\n"
   ]
  },
  {
   "cell_type": "code",
   "execution_count": 17,
   "metadata": {
    "colab": {
     "base_uri": "https://localhost:8080/"
    },
    "id": "l0BPX-0MfwV_",
    "outputId": "c68647e6-0e9b-42b7-c5ab-dfc42fd1bbc9"
   },
   "outputs": [
    {
     "name": "stdin",
     "output_type": "stream",
     "text": [
      "Enter path to folder containing the testing images:  C:\\Users\\Kathleen Jocson\\Desktop\\sugarcane_test\\sugarcane_test\n"
     ]
    }
   ],
   "source": [
    "folder_path = input(\"Enter path to folder containing the testing images: \")"
   ]
  },
  {
   "cell_type": "code",
   "execution_count": 21,
   "metadata": {
    "colab": {
     "base_uri": "https://localhost:8080/"
    },
    "id": "G7vyL_KHkBJ9",
    "outputId": "9fc8bbb2-53f8-41b9-9866-5f114ad2b95f"
   },
   "outputs": [],
   "source": [
    "import os\n",
    "import csv\n",
    "\n",
    "image_paths = [os.path.join(folder_path, fname) for fname in os.listdir(folder_path) if fname.endswith(('.jpg', '.png', '.jpeg'))]\n",
    "\n",
    "\n",
    "# for img_path in image_paths:\n",
    "#     image_name = os.path.basename(img_path)\n",
    "#     prediction = model.predict(img_path)\n",
    "#     print(f\"{image_name},{prediction}\")\n",
    "\n",
    "with open('predictions.csv', mode='w', newline='') as file:\n",
    "    writer = csv.writer(file)\n",
    "    writer.writerow(['image_filename', 'predicted_label'])  # Header\n",
    "\n",
    "    for img_path in image_paths:\n",
    "        image_name = os.path.basename(img_path)\n",
    "        prediction = model.predict(img_path) \n",
    "        writer.writerow([image_name, prediction])"
   ]
  },
  {
   "cell_type": "code",
   "execution_count": null,
   "metadata": {},
   "outputs": [],
   "source": []
  }
 ],
 "metadata": {
  "colab": {
   "provenance": []
  },
  "kernelspec": {
   "display_name": "Python 3 (ipykernel)",
   "language": "python",
   "name": "python3"
  },
  "language_info": {
   "codemirror_mode": {
    "name": "ipython",
    "version": 3
   },
   "file_extension": ".py",
   "mimetype": "text/x-python",
   "name": "python",
   "nbconvert_exporter": "python",
   "pygments_lexer": "ipython3",
   "version": "3.12.1"
  }
 },
 "nbformat": 4,
 "nbformat_minor": 4
}
