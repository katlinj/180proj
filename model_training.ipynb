{
 "cells": [
  {
   "cell_type": "markdown",
   "metadata": {
    "id": "Czfg8T2o6n_4"
   },
   "source": [
    "# **Unsupervised or Traditional Machine Learning Approach: Training the Model**\n",
    "\n",
    "---\n",
    "\n"
   ]
  },
  {
   "cell_type": "markdown",
   "metadata": {
    "id": "31yD0dpAMkal"
   },
   "source": [
    "Guide used: https://www.youtube.com/watch?v=tHL5STNJKag&list=WL&index=1&t=817s"
   ]
  },
  {
   "cell_type": "markdown",
   "metadata": {
    "id": "WzuKc8Gj7dy_"
   },
   "source": [
    "# **Setup**"
   ]
  },
  {
   "cell_type": "code",
   "execution_count": 1,
   "metadata": {
    "colab": {
     "base_uri": "https://localhost:8080/"
    },
    "id": "HD0QWRH1E6uq",
    "outputId": "c4a6aff0-1e14-4706-8f58-efa44ddc16e1"
   },
   "outputs": [
    {
     "name": "stdout",
     "output_type": "stream",
     "text": [
      "Requirement already satisfied: joblib in c:\\users\\kathleen jocson\\appdata\\local\\programs\\python\\python312\\lib\\site-packages (1.4.2)\n",
      "Requirement already satisfied: tqdm in c:\\users\\kathleen jocson\\appdata\\local\\programs\\python\\python312\\lib\\site-packages (4.67.1)\n",
      "Requirement already satisfied: colorama in c:\\users\\kathleen jocson\\appdata\\local\\programs\\python\\python312\\lib\\site-packages (from tqdm) (0.4.6)\n",
      "Collecting ipywidgets\n",
      "  Downloading ipywidgets-8.1.7-py3-none-any.whl.metadata (2.4 kB)\n",
      "Requirement already satisfied: comm>=0.1.3 in c:\\users\\kathleen jocson\\appdata\\local\\programs\\python\\python312\\lib\\site-packages (from ipywidgets) (0.2.2)\n",
      "Requirement already satisfied: ipython>=6.1.0 in c:\\users\\kathleen jocson\\appdata\\local\\programs\\python\\python312\\lib\\site-packages (from ipywidgets) (8.32.0)\n",
      "Requirement already satisfied: traitlets>=4.3.1 in c:\\users\\kathleen jocson\\appdata\\local\\programs\\python\\python312\\lib\\site-packages (from ipywidgets) (5.14.3)\n",
      "Collecting widgetsnbextension~=4.0.14 (from ipywidgets)\n",
      "  Downloading widgetsnbextension-4.0.14-py3-none-any.whl.metadata (1.6 kB)\n",
      "Collecting jupyterlab_widgets~=3.0.15 (from ipywidgets)\n",
      "  Downloading jupyterlab_widgets-3.0.15-py3-none-any.whl.metadata (20 kB)\n",
      "Requirement already satisfied: colorama in c:\\users\\kathleen jocson\\appdata\\local\\programs\\python\\python312\\lib\\site-packages (from ipython>=6.1.0->ipywidgets) (0.4.6)\n",
      "Requirement already satisfied: decorator in c:\\users\\kathleen jocson\\appdata\\local\\programs\\python\\python312\\lib\\site-packages (from ipython>=6.1.0->ipywidgets) (5.1.1)\n",
      "Requirement already satisfied: jedi>=0.16 in c:\\users\\kathleen jocson\\appdata\\local\\programs\\python\\python312\\lib\\site-packages (from ipython>=6.1.0->ipywidgets) (0.19.2)\n",
      "Requirement already satisfied: matplotlib-inline in c:\\users\\kathleen jocson\\appdata\\local\\programs\\python\\python312\\lib\\site-packages (from ipython>=6.1.0->ipywidgets) (0.1.7)\n",
      "Requirement already satisfied: prompt_toolkit<3.1.0,>=3.0.41 in c:\\users\\kathleen jocson\\appdata\\local\\programs\\python\\python312\\lib\\site-packages (from ipython>=6.1.0->ipywidgets) (3.0.50)\n",
      "Requirement already satisfied: pygments>=2.4.0 in c:\\users\\kathleen jocson\\appdata\\local\\programs\\python\\python312\\lib\\site-packages (from ipython>=6.1.0->ipywidgets) (2.18.0)\n",
      "Requirement already satisfied: stack_data in c:\\users\\kathleen jocson\\appdata\\local\\programs\\python\\python312\\lib\\site-packages (from ipython>=6.1.0->ipywidgets) (0.6.3)\n",
      "Requirement already satisfied: wcwidth in c:\\users\\kathleen jocson\\appdata\\local\\programs\\python\\python312\\lib\\site-packages (from prompt_toolkit<3.1.0,>=3.0.41->ipython>=6.1.0->ipywidgets) (0.2.13)\n",
      "Requirement already satisfied: parso<0.9.0,>=0.8.4 in c:\\users\\kathleen jocson\\appdata\\local\\programs\\python\\python312\\lib\\site-packages (from jedi>=0.16->ipython>=6.1.0->ipywidgets) (0.8.4)\n",
      "Requirement already satisfied: executing>=1.2.0 in c:\\users\\kathleen jocson\\appdata\\local\\programs\\python\\python312\\lib\\site-packages (from stack_data->ipython>=6.1.0->ipywidgets) (2.2.0)\n",
      "Requirement already satisfied: asttokens>=2.1.0 in c:\\users\\kathleen jocson\\appdata\\local\\programs\\python\\python312\\lib\\site-packages (from stack_data->ipython>=6.1.0->ipywidgets) (3.0.0)\n",
      "Requirement already satisfied: pure-eval in c:\\users\\kathleen jocson\\appdata\\local\\programs\\python\\python312\\lib\\site-packages (from stack_data->ipython>=6.1.0->ipywidgets) (0.2.3)\n",
      "Downloading ipywidgets-8.1.7-py3-none-any.whl (139 kB)\n",
      "Downloading jupyterlab_widgets-3.0.15-py3-none-any.whl (216 kB)\n",
      "Downloading widgetsnbextension-4.0.14-py3-none-any.whl (2.2 MB)\n",
      "   ---------------------------------------- 0.0/2.2 MB ? eta -:--:--\n",
      "   ---------------------------- ----------- 1.6/2.2 MB 7.0 MB/s eta 0:00:01\n",
      "   ---------------------------------------- 2.2/2.2 MB 5.6 MB/s eta 0:00:00\n",
      "Installing collected packages: widgetsnbextension, jupyterlab_widgets, ipywidgets\n",
      "\n",
      "   ------------- -------------------------- 1/3 [jupyterlab_widgets]\n",
      "   -------------------------- ------------- 2/3 [ipywidgets]\n",
      "   -------------------------- ------------- 2/3 [ipywidgets]\n",
      "   -------------------------- ------------- 2/3 [ipywidgets]\n",
      "   -------------------------- ------------- 2/3 [ipywidgets]\n",
      "   -------------------------- ------------- 2/3 [ipywidgets]\n",
      "   -------------------------- ------------- 2/3 [ipywidgets]\n",
      "   -------------------------- ------------- 2/3 [ipywidgets]\n",
      "   -------------------------- ------------- 2/3 [ipywidgets]\n",
      "   -------------------------- ------------- 2/3 [ipywidgets]\n",
      "   ---------------------------------------- 3/3 [ipywidgets]\n",
      "\n",
      "Successfully installed ipywidgets-8.1.7 jupyterlab_widgets-3.0.15 widgetsnbextension-4.0.14\n"
     ]
    }
   ],
   "source": [
    "!pip install joblib\n",
    "!pip install tqdm\n",
    "!pip install ipywidgets"
   ]
  },
  {
   "cell_type": "code",
   "execution_count": 2,
   "metadata": {
    "id": "Pn-rP_bU7lW3"
   },
   "outputs": [],
   "source": [
    "import torch\n",
    "import torch.nn as nn\n",
    "import torch.optim as optim\n",
    "from torch.utils.data import Dataset, DataLoader\n",
    "import torchvision.transforms as transforms\n",
    "from torchvision.datasets import ImageFolder\n",
    "import timm\n",
    "from sklearn.metrics import accuracy_score, confusion_matrix, classification_report\n",
    "from tqdm.notebook import tqdm\n",
    "\n",
    "import matplotlib.pyplot as plt\n",
    "import pandas as pd\n",
    "import numpy as np\n",
    "from sklearn.ensemble import RandomForestClassifier\n",
    "import joblib\n",
    "import seaborn as sns\n",
    "from sklearn.model_selection import cross_val_score, StratifiedKFold\n",
    "from PIL import Image"
   ]
  },
  {
   "cell_type": "code",
   "execution_count": 3,
   "metadata": {
    "colab": {
     "base_uri": "https://localhost:8080/"
    },
    "id": "a1vuf_E5-4_1",
    "outputId": "fbf0f2b4-eb14-443c-94fe-e3b79b58105a"
   },
   "outputs": [],
   "source": [
    "# drive.mount('/content/drive')"
   ]
  },
  {
   "cell_type": "code",
   "execution_count": 4,
   "metadata": {
    "id": "3cYHQnnMD2vm"
   },
   "outputs": [],
   "source": [
    "# full dataset path\n",
    "dataset_dir = r\"C:\\Users\\Kathleen Jocson\\Desktop\\train\"\n",
    "\n"
   ]
  },
  {
   "cell_type": "markdown",
   "metadata": {
    "id": "pIUsMLow6-El"
   },
   "source": [
    "# **Data Preprocessing**"
   ]
  },
  {
   "cell_type": "code",
   "execution_count": 5,
   "metadata": {
    "id": "lIdu1Nii6ORc"
   },
   "outputs": [],
   "source": [
    "class SugarcaneDataset(Dataset):\n",
    "  def __init__(self, root_dir, transform=None):\n",
    "    self.dataset = ImageFolder(root=root_dir, transform=transform)\n",
    "\n",
    "  def __len__(self):\n",
    "    return len(self.dataset)\n",
    "\n",
    "  def __getitem__(self, idx):\n",
    "    return self.dataset[idx]\n",
    "\n",
    "  @property\n",
    "  def classes(self):\n",
    "    return self.dataset.classes"
   ]
  },
  {
   "cell_type": "code",
   "execution_count": 6,
   "metadata": {
    "id": "Rb2-U0R5Psuh"
   },
   "outputs": [],
   "source": [
    "# This will Transform an image to a certain size, convert it to tensor, and normalize the pixel values\n",
    "transform = transforms.Compose([\n",
    "    transforms.Resize((224, 224)),\n",
    "    transforms.ToTensor(),\n",
    "])"
   ]
  },
  {
   "cell_type": "code",
   "execution_count": 7,
   "metadata": {
    "id": "cEVIDWMZNCpW"
   },
   "outputs": [],
   "source": [
    "# Converts each image to a tuple of the form (tensor, label) using 'transform' defined earlier\n",
    "# Assigns a number to each category of sugarcane disease in the dataset\n",
    "dataset  = SugarcaneDataset(root_dir=dataset_dir, transform=transform)\n",
    "\n"
   ]
  },
  {
   "cell_type": "code",
   "execution_count": 8,
   "metadata": {
    "colab": {
     "base_uri": "https://localhost:8080/"
    },
    "id": "jd64Nf6ENX6x",
    "outputId": "debb6871-0f1e-471a-dfec-d6eff9e70164"
   },
   "outputs": [
    {
     "name": "stdout",
     "output_type": "stream",
     "text": [
      "{0: 'Banded_Chlorosis', 1: 'Brown_Rust', 2: 'Brown_Spot', 3: 'Healthy', 4: 'Viral', 5: 'Yellow_Leaf'}\n"
     ]
    }
   ],
   "source": [
    "# Get the number assigned to each disease (folder name)\n",
    "dataset_label_to_class = {v: k for k, v in dataset.dataset.class_to_idx.items()}\n",
    "print(dataset_label_to_class)\n",
    "\n",
    "\n"
   ]
  },
  {
   "cell_type": "code",
   "execution_count": 9,
   "metadata": {
    "colab": {
     "base_uri": "https://localhost:8080/"
    },
    "id": "oxwFIbtsCcXH",
    "outputId": "9541be4f-441d-4d59-cdbc-041a58359e87"
   },
   "outputs": [
    {
     "data": {
      "text/plain": [
       "4314"
      ]
     },
     "execution_count": 9,
     "metadata": {},
     "output_type": "execute_result"
    }
   ],
   "source": [
    "len(dataset)"
   ]
  },
  {
   "cell_type": "code",
   "execution_count": 10,
   "metadata": {
    "colab": {
     "base_uri": "https://localhost:8080/"
    },
    "id": "y7ZBBg9bCoK8",
    "outputId": "8d24c23e-74c6-483d-885b-13885c919dcd"
   },
   "outputs": [
    {
     "data": {
      "text/plain": [
       "torch.Size([3, 224, 224])"
      ]
     },
     "execution_count": 10,
     "metadata": {},
     "output_type": "execute_result"
    }
   ],
   "source": [
    "dataset[45][0].shape"
   ]
  },
  {
   "cell_type": "markdown",
   "metadata": {
    "id": "1TKiVakRQ_YS"
   },
   "source": [
    "# **Model building**"
   ]
  },
  {
   "cell_type": "code",
   "execution_count": 11,
   "metadata": {
    "id": "BtDrHZ247cCN"
   },
   "outputs": [],
   "source": [
    "# Pre-trained resnet18 without the classification layer will be used for feature extraction\n",
    "# Random forest classifier will be used for classification\n",
    "# The output of the feature extractor will be the input to the classifier\n",
    "\n",
    "class SugarcaneDiseaseFeatureExtractor(nn.Module):\n",
    "  def __init__(self, num_classes=6):\n",
    "    super(SugarcaneDiseaseFeatureExtractor, self).__init__()\n",
    "    self.base_model = timm.create_model('resnet18', pretrained=True, num_classes=0)\n",
    "    self.features = nn.Sequential(*list(self.base_model.children())[:-1])\n",
    "\n",
    "  def forward(self, x):\n",
    "    # Flattens the extracted features since it will be used as input to random forest\n",
    "    features = self.features(x).reshape(x.size(0), -1)\n",
    "    return features\n",
    "\n",
    "\n",
    "class SugarcaneClassifierWrapper:\n",
    "    '''\n",
    "    Contains the feature extractor, classifier, transform and classes\n",
    "    '''\n",
    "    def __init__(self, feature_extractor, classifier, transform, classes):\n",
    "        self.feature_extractor = feature_extractor\n",
    "        self.classifier = classifier\n",
    "        self.transform = transform\n",
    "        self.classes = classes\n",
    "        self.feature_extractor.eval()\n",
    "\n",
    "    def extract_features(self, dataloader):\n",
    "        '''\n",
    "        Extracts features from the given dataloader.\n",
    "        Returns the features and the labels.\n",
    "        '''\n",
    "        device = torch.device(\"cuda\" if torch.cuda.is_available() else \"cpu\")\n",
    "        features, labels = [], []\n",
    "        with torch.no_grad():\n",
    "            for imgs, lbls in tqdm(dataloader):\n",
    "                imgs = imgs.to(device)\n",
    "                feats = self.feature_extractor(imgs)\n",
    "                features.append(feats.cpu().numpy())\n",
    "                labels.extend(lbls.numpy())\n",
    "        return np.concatenate(features), np.array(labels)\n",
    "\n",
    "    def train(self, dataloader, n_estimators=100, criterion='entropy', random_state=42, n_splits=5):\n",
    "        \"\"\"\n",
    "        Train the model on the given dataloader.\n",
    "\n",
    "        \"\"\"\n",
    "        device = torch.device(\"cuda\" if torch.cuda.is_available() else \"cpu\")\n",
    "        print(\"Extracting features...\")\n",
    "        X_train, y_train = self.extract_features(dataloader)\n",
    "        print(\"Performing cross-validation...\")\n",
    "        kf = StratifiedKFold(n_splits=n_splits, shuffle=True, random_state=random_state)\n",
    "        scores = cross_val_score(self.classifier, X_train, y_train, cv=kf, scoring='f1_weighted')\n",
    "        print(\"Fold scores (f1 weighted):\", scores)\n",
    "        print(\"Mean F1:\", np.mean(scores))\n",
    "        print(\"Training the classifier...\")\n",
    "        self.classifier.fit(X_train, y_train)\n",
    "        print(\"Training complete.\")\n",
    "\n",
    "    def evaluate(self, dataloader):\n",
    "        \"\"\"\n",
    "        Evaluate the model on the given dataloader.\n",
    "        Prints the accuracy and confusion matrix.\n",
    "\n",
    "        \"\"\"\n",
    "        device = torch.device(\"cuda\" if torch.cuda.is_available() else \"cpu\")\n",
    "        print(\"Extracting features...\")\n",
    "        X_test, y_test = self.extract_features(dataloader)\n",
    "        y_pred = self.classifier.predict(X_test)\n",
    "        accuracy = accuracy_score(y_test, y_pred)\n",
    "        conf_matrix = confusion_matrix(y_test, y_pred)\n",
    "        print(\"Accuracy:\", accuracy)\n",
    "        report = classification_report(y_test, y_pred, output_dict=True)\n",
    "        print(classification_report(y_test, y_pred))\n",
    "        cm = confusion_matrix(y_test, y_pred)\n",
    "        plt.figure(figsize=(10, 8))\n",
    "        sns.heatmap(cm, annot=True, fmt='d', cmap='Blues', xticklabels=self.classes, yticklabels=self.classes)\n",
    "        plt.title('Confusion Matrix')\n",
    "        plt.ylabel('True Label')\n",
    "        plt.xlabel('Predicted Label')\n",
    "        plt.tight_layout()\n",
    "        plt.savefig('confusion_matrix.png')\n",
    "        plt.show()\n",
    "\n",
    "\n",
    "    def predict(self, image_path):\n",
    "        \"\"\"\n",
    "        Predict the class of the given image.\n",
    "\n",
    "        \"\"\"\n",
    "        image = Image.open(image_path).convert('RGB')\n",
    "        image_tensor = self.transform(image).unsqueeze(0)\n",
    "        with torch.no_grad():\n",
    "            features = self.feature_extractor(image_tensor)\n",
    "        return self.classes[self.classifier.predict(features.numpy())[0]]\n",
    "\n"
   ]
  },
  {
   "cell_type": "markdown",
   "metadata": {
    "id": "1aEIBvO17nHI"
   },
   "source": [
    "# **Training**"
   ]
  },
  {
   "cell_type": "code",
   "execution_count": 12,
   "metadata": {
    "id": "qQUEfk6v7tj3"
   },
   "outputs": [],
   "source": [
    "# Setting up the dataloaders\n",
    "dataloader = DataLoader(dataset, batch_size = 32, shuffle = True)"
   ]
  },
  {
   "cell_type": "code",
   "execution_count": 13,
   "metadata": {
    "colab": {
     "base_uri": "https://localhost:8080/",
     "height": 281,
     "referenced_widgets": [
      "c94bc0e6cd614fd885f35f666e13d501",
      "f51b044fd9cd4e7dba71489cc7528f4d",
      "7d379024d56a4f98bccf737efa47a1ed",
      "fe25fae147824272a3c4d9c7472ae597",
      "8be5f59202e24e749cb54e672e06fb6a",
      "1c41b99f57364ea48182fa6f03f2591f",
      "5bac5a6b6e8f44fa9dce7f971990c32d",
      "246c9c4a3d394fed8ce64a248831bedd",
      "2eda6addc1384c1aa218f546e2f876ef",
      "4512322e19d649ff9ed7c28844337e00",
      "04fef87995424628ba9812bdf68d2f6c"
     ]
    },
    "id": "pPMlnnx0Kll7",
    "outputId": "2025e53b-b80c-438e-c5ec-afe9f7b5c80d"
   },
   "outputs": [
    {
     "name": "stdout",
     "output_type": "stream",
     "text": [
      "Extracting features...\n"
     ]
    },
    {
     "data": {
      "application/vnd.jupyter.widget-view+json": {
       "model_id": "814ba3d78ad04693b462628112f93554",
       "version_major": 2,
       "version_minor": 0
      },
      "text/plain": [
       "  0%|          | 0/135 [00:00<?, ?it/s]"
      ]
     },
     "metadata": {},
     "output_type": "display_data"
    },
    {
     "name": "stdout",
     "output_type": "stream",
     "text": [
      "Performing cross-validation...\n",
      "Fold scores (f1 weighted): [0.91565837 0.9172357  0.90974192 0.92187229 0.91909979]\n",
      "Mean F1: 0.9167216146076858\n",
      "Training the classifier...\n",
      "Training complete.\n"
     ]
    }
   ],
   "source": [
    "# Initializing the feature extractor\n",
    "device = torch.device(\"cuda\" if torch.cuda.is_available() else \"cpu\")\n",
    "feature_extractor = SugarcaneDiseaseFeatureExtractor().to(device)\n",
    "\n",
    "# Initializing the classifier (Random forest)\n",
    "classifier = RandomForestClassifier(n_estimators=100, criterion='entropy', random_state=42)\n",
    "\n",
    "# Creating the pipeline\n",
    "model = SugarcaneClassifierWrapper(feature_extractor, classifier, transform, dataset_label_to_class)\n",
    "\n",
    "# Training\n",
    "model.train(dataloader)\n",
    "\n",
    "\n",
    "\n"
   ]
  },
  {
   "cell_type": "code",
   "execution_count": 14,
   "metadata": {
    "colab": {
     "base_uri": "https://localhost:8080/"
    },
    "id": "l0EhYw4TUKyM",
    "outputId": "8b8868df-cca2-455e-d8bd-b4015a5d10c4"
   },
   "outputs": [
    {
     "data": {
      "text/plain": [
       "['sugarcane_rf_model.pkl']"
      ]
     },
     "execution_count": 14,
     "metadata": {},
     "output_type": "execute_result"
    }
   ],
   "source": [
    "# Saving the model\n",
    "import joblib\n",
    "joblib.dump(model, \"sugarcane_rf_model.pkl\")"
   ]
  },
  {
   "cell_type": "markdown",
   "metadata": {
    "id": "OzWvh7xeg6jf"
   },
   "source": [
    "# Evaluate Model"
   ]
  },
  {
   "cell_type": "code",
   "execution_count": 16,
   "metadata": {
    "colab": {
     "base_uri": "https://localhost:8080/",
     "height": 1000
    },
    "id": "pngXfOElbDKp",
    "outputId": "f61cfd96-575e-4bf3-b4b6-78c670e83ba7"
   },
   "outputs": [
    {
     "name": "stdout",
     "output_type": "stream",
     "text": [
      "Extracting features...\n"
     ]
    },
    {
     "data": {
      "application/vnd.jupyter.widget-view+json": {
       "model_id": "bf8e247803004f50a6726911f5a64a62",
       "version_major": 2,
       "version_minor": 0
      },
      "text/plain": [
       "  0%|          | 0/7 [00:00<?, ?it/s]"
      ]
     },
     "metadata": {},
     "output_type": "display_data"
    },
    {
     "name": "stdout",
     "output_type": "stream",
     "text": [
      "Accuracy: 0.9577464788732394\n",
      "              precision    recall  f1-score   support\n",
      "\n",
      "           0       0.92      0.79      0.85        14\n",
      "           1       1.00      0.88      0.93         8\n",
      "           2       0.91      1.00      0.95        77\n",
      "           3       1.00      1.00      1.00        30\n",
      "           4       1.00      0.97      0.99        34\n",
      "           5       1.00      0.92      0.96        50\n",
      "\n",
      "    accuracy                           0.96       213\n",
      "   macro avg       0.97      0.93      0.95       213\n",
      "weighted avg       0.96      0.96      0.96       213\n",
      "\n"
     ]
    },
    {
     "data": {
      "image/png": "[encoded data removed]",
      "text/plain": [
       "<Figure size 1000x800 with 2 Axes>"
      ]
     },
     "metadata": {},
     "output_type": "display_data"
    }
   ],
   "source": [
    "# The input should be in the same format as the training dataset (folder structure, folder names (except root dir), and all)\n",
    "test_dir = r\"C:\\Users\\Kathleen Jocson\\Desktop\\full\" \n",
    "test_dataset  = SugarcaneDataset(root_dir=test_dir, transform=transform)\n",
    "test_dataloader = DataLoader(test_dataset, batch_size = 32, shuffle = True)\n",
    "model.classes = test_dataset.classes\n",
    "model.evaluate(test_dataloader)\n"
   ]
  },
  {
   "cell_type": "code",
   "execution_count": null,
   "metadata": {},
   "outputs": [],
   "source": []
  }
 ],
 "metadata": {
  "colab": {
   "provenance": []
  },
  "kernelspec": {
   "display_name": "Python 3 (ipykernel)",
   "language": "python",
   "name": "python3"
  },
  "language_info": {
   "codemirror_mode": {
    "name": "ipython",
    "version": 3
   },
   "file_extension": ".py",
   "mimetype": "text/x-python",
   "name": "python",
   "nbconvert_exporter": "python",
   "pygments_lexer": "ipython3",
   "version": "3.12.1"
  },
  "widgets": {
   "application/vnd.jupyter.widget-state+json": {
    "04fef87995424628ba9812bdf68d2f6c": {
     "model_module": "@jupyter-widgets/controls",
     "model_module_version": "1.5.0",
     "model_name": "DescriptionStyleModel",
     "state": {
      "_model_module": "@jupyter-widgets/controls",
      "_model_module_version": "1.5.0",
      "_model_name": "DescriptionStyleModel",
      "_view_count": null,
      "_view_module": "@jupyter-widgets/base",
      "_view_module_version": "1.2.0",
      "_view_name": "StyleView",
      "description_width": ""
     }
    },
    "1c41b99f57364ea48182fa6f03f2591f": {
     "model_module": "@jupyter-widgets/base",
     "model_module_version": "1.2.0",
     "model_name": "LayoutModel",
     "state": {
      "_model_module": "@jupyter-widgets/base",
      "_model_module_version": "1.2.0",
      "_model_name": "LayoutModel",
      "_view_count": null,
      "_view_module": "@jupyter-widgets/base",
      "_view_module_version": "1.2.0",
      "_view_name": "LayoutView",
      "align_content": null,
      "align_items": null,
      "align_self": null,
      "border": null,
      "bottom": null,
      "display": null,
      "flex": null,
      "flex_flow": null,
      "grid_area": null,
      "grid_auto_columns": null,
      "grid_auto_flow": null,
      "grid_auto_rows": null,
      "grid_column": null,
      "grid_gap": null,
      "grid_row": null,
      "grid_template_areas": null,
      "grid_template_columns": null,
      "grid_template_rows": null,
      "height": null,
      "justify_content": null,
      "justify_items": null,
      "left": null,
      "margin": null,
      "max_height": null,
      "max_width": null,
      "min_height": null,
      "min_width": null,
      "object_fit": null,
      "object_position": null,
      "order": null,
      "overflow": null,
      "overflow_x": null,
      "overflow_y": null,
      "padding": null,
      "right": null,
      "top": null,
      "visibility": null,
      "width": null
     }
    },
    "246c9c4a3d394fed8ce64a248831bedd": {
     "model_module": "@jupyter-widgets/base",
     "model_module_version": "1.2.0",
     "model_name": "LayoutModel",
     "state": {
      "_model_module": "@jupyter-widgets/base",
      "_model_module_version": "1.2.0",
      "_model_name": "LayoutModel",
      "_view_count": null,
      "_view_module": "@jupyter-widgets/base",
      "_view_module_version": "1.2.0",
      "_view_name": "LayoutView",
      "align_content": null,
      "align_items": null,
      "align_self": null,
      "border": null,
      "bottom": null,
      "display": null,
      "flex": null,
      "flex_flow": null,
      "grid_area": null,
      "grid_auto_columns": null,
      "grid_auto_flow": null,
      "grid_auto_rows": null,
      "grid_column": null,
      "grid_gap": null,
      "grid_row": null,
      "grid_template_areas": null,
      "grid_template_columns": null,
      "grid_template_rows": null,
      "height": null,
      "justify_content": null,
      "justify_items": null,
      "left": null,
      "margin": null,
      "max_height": null,
      "max_width": null,
      "min_height": null,
      "min_width": null,
      "object_fit": null,
      "object_position": null,
      "order": null,
      "overflow": null,
      "overflow_x": null,
      "overflow_y": null,
      "padding": null,
      "right": null,
      "top": null,
      "visibility": null,
      "width": null
     }
    },
    "2eda6addc1384c1aa218f546e2f876ef": {
     "model_module": "@jupyter-widgets/controls",
     "model_module_version": "1.5.0",
     "model_name": "ProgressStyleModel",
     "state": {
      "_model_module": "@jupyter-widgets/controls",
      "_model_module_version": "1.5.0",
      "_model_name": "ProgressStyleModel",
      "_view_count": null,
      "_view_module": "@jupyter-widgets/base",
      "_view_module_version": "1.2.0",
      "_view_name": "StyleView",
      "bar_color": null,
      "description_width": ""
     }
    },
    "4512322e19d649ff9ed7c28844337e00": {
     "model_module": "@jupyter-widgets/base",
     "model_module_version": "1.2.0",
     "model_name": "LayoutModel",
     "state": {
      "_model_module": "@jupyter-widgets/base",
      "_model_module_version": "1.2.0",
      "_model_name": "LayoutModel",
      "_view_count": null,
      "_view_module": "@jupyter-widgets/base",
      "_view_module_version": "1.2.0",
      "_view_name": "LayoutView",
      "align_content": null,
      "align_items": null,
      "align_self": null,
      "border": null,
      "bottom": null,
      "display": null,
      "flex": null,
      "flex_flow": null,
      "grid_area": null,
      "grid_auto_columns": null,
      "grid_auto_flow": null,
      "grid_auto_rows": null,
      "grid_column": null,
      "grid_gap": null,
      "grid_row": null,
      "grid_template_areas": null,
      "grid_template_columns": null,
      "grid_template_rows": null,
      "height": null,
      "justify_content": null,
      "justify_items": null,
      "left": null,
      "margin": null,
      "max_height": null,
      "max_width": null,
      "min_height": null,
      "min_width": null,
      "object_fit": null,
      "object_position": null,
      "order": null,
      "overflow": null,
      "overflow_x": null,
      "overflow_y": null,
      "padding": null,
      "right": null,
      "top": null,
      "visibility": null,
      "width": null
     }
    },
    "5bac5a6b6e8f44fa9dce7f971990c32d": {
     "model_module": "@jupyter-widgets/controls",
     "model_module_version": "1.5.0",
     "model_name": "DescriptionStyleModel",
     "state": {
      "_model_module": "@jupyter-widgets/controls",
      "_model_module_version": "1.5.0",
      "_model_name": "DescriptionStyleModel",
      "_view_count": null,
      "_view_module": "@jupyter-widgets/base",
      "_view_module_version": "1.2.0",
      "_view_name": "StyleView",
      "description_width": ""
     }
    },
    "7d379024d56a4f98bccf737efa47a1ed": {
     "model_module": "@jupyter-widgets/controls",
     "model_module_version": "1.5.0",
     "model_name": "FloatProgressModel",
     "state": {
      "_dom_classes": [],
      "_model_module": "@jupyter-widgets/controls",
      "_model_module_version": "1.5.0",
      "_model_name": "FloatProgressModel",
      "_view_count": null,
      "_view_module": "@jupyter-widgets/controls",
      "_view_module_version": "1.5.0",
      "_view_name": "ProgressView",
      "bar_style": "success",
      "description": "",
      "description_tooltip": null,
      "layout": "IPY_MODEL_246c9c4a3d394fed8ce64a248831bedd",
      "max": 46807446,
      "min": 0,
      "orientation": "horizontal",
      "style": "IPY_MODEL_2eda6addc1384c1aa218f546e2f876ef",
      "value": 46807446
     }
    },
    "8be5f59202e24e749cb54e672e06fb6a": {
     "model_module": "@jupyter-widgets/base",
     "model_module_version": "1.2.0",
     "model_name": "LayoutModel",
     "state": {
      "_model_module": "@jupyter-widgets/base",
      "_model_module_version": "1.2.0",
      "_model_name": "LayoutModel",
      "_view_count": null,
      "_view_module": "@jupyter-widgets/base",
      "_view_module_version": "1.2.0",
      "_view_name": "LayoutView",
      "align_content": null,
      "align_items": null,
      "align_self": null,
      "border": null,
      "bottom": null,
      "display": null,
      "flex": null,
      "flex_flow": null,
      "grid_area": null,
      "grid_auto_columns": null,
      "grid_auto_flow": null,
      "grid_auto_rows": null,
      "grid_column": null,
      "grid_gap": null,
      "grid_row": null,
      "grid_template_areas": null,
      "grid_template_columns": null,
      "grid_template_rows": null,
      "height": null,
      "justify_content": null,
      "justify_items": null,
      "left": null,
      "margin": null,
      "max_height": null,
      "max_width": null,
      "min_height": null,
      "min_width": null,
      "object_fit": null,
      "object_position": null,
      "order": null,
      "overflow": null,
      "overflow_x": null,
      "overflow_y": null,
      "padding": null,
      "right": null,
      "top": null,
      "visibility": null,
      "width": null
     }
    },
    "c94bc0e6cd614fd885f35f666e13d501": {
     "model_module": "@jupyter-widgets/controls",
     "model_module_version": "1.5.0",
     "model_name": "HBoxModel",
     "state": {
      "_dom_classes": [],
      "_model_module": "@jupyter-widgets/controls",
      "_model_module_version": "1.5.0",
      "_model_name": "HBoxModel",
      "_view_count": null,
      "_view_module": "@jupyter-widgets/controls",
      "_view_module_version": "1.5.0",
      "_view_name": "HBoxView",
      "box_style": "",
      "children": [
       "IPY_MODEL_f51b044fd9cd4e7dba71489cc7528f4d",
       "IPY_MODEL_7d379024d56a4f98bccf737efa47a1ed",
       "IPY_MODEL_fe25fae147824272a3c4d9c7472ae597"
      ],
      "layout": "IPY_MODEL_8be5f59202e24e749cb54e672e06fb6a"
     }
    },
    "f51b044fd9cd4e7dba71489cc7528f4d": {
     "model_module": "@jupyter-widgets/controls",
     "model_module_version": "1.5.0",
     "model_name": "HTMLModel",
     "state": {
      "_dom_classes": [],
      "_model_module": "@jupyter-widgets/controls",
      "_model_module_version": "1.5.0",
      "_model_name": "HTMLModel",
      "_view_count": null,
      "_view_module": "@jupyter-widgets/controls",
      "_view_module_version": "1.5.0",
      "_view_name": "HTMLView",
      "description": "",
      "description_tooltip": null,
      "layout": "IPY_MODEL_1c41b99f57364ea48182fa6f03f2591f",
      "placeholder": "​",
      "style": "IPY_MODEL_5bac5a6b6e8f44fa9dce7f971990c32d",
      "value": "model.safetensors: 100%"
     }
    },
    "fe25fae147824272a3c4d9c7472ae597": {
     "model_module": "@jupyter-widgets/controls",
     "model_module_version": "1.5.0",
     "model_name": "HTMLModel",
     "state": {
      "_dom_classes": [],
      "_model_module": "@jupyter-widgets/controls",
      "_model_module_version": "1.5.0",
      "_model_name": "HTMLModel",
      "_view_count": null,
      "_view_module": "@jupyter-widgets/controls",
      "_view_module_version": "1.5.0",
      "_view_name": "HTMLView",
      "description": "",
      "description_tooltip": null,
      "layout": "IPY_MODEL_4512322e19d649ff9ed7c28844337e00",
      "placeholder": "​",
      "style": "IPY_MODEL_04fef87995424628ba9812bdf68d2f6c",
      "value": " 46.8M/46.8M [00:00&lt;00:00, 145MB/s]"
     }
    }
   }
  }
 },
 "nbformat": 4,
 "nbformat_minor": 4
}
